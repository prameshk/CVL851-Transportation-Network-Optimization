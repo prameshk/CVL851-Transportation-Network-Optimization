{
 "cells": [
  {
   "cell_type": "markdown",
   "id": "fc9dd29e",
   "metadata": {},
   "source": [
    "# Sorting algorithms\n",
    "\n",
    "## Insertion sort"
   ]
  },
  {
   "cell_type": "code",
   "execution_count": 1,
   "id": "f49c2bbd",
   "metadata": {},
   "outputs": [],
   "source": [
    "import math"
   ]
  },
  {
   "cell_type": "code",
   "execution_count": 2,
   "id": "442b9cb7",
   "metadata": {},
   "outputs": [],
   "source": [
    "def insertion_sort(A):\n",
    "    for j in range(1,len(A)):\n",
    "        key = A[j]\n",
    "        # Insert A[.] into the sorted sequence A[1...j-1]\n",
    "        i = j -1\n",
    "        while i >= 0 and A[i] > key:\n",
    "            A[i+1] = A[i]\n",
    "            i = i - 1\n",
    "        A[i+1] = key\n",
    "    return A"
   ]
  },
  {
   "cell_type": "code",
   "execution_count": 3,
   "id": "a0f23cdb",
   "metadata": {},
   "outputs": [
    {
     "name": "stdout",
     "output_type": "stream",
     "text": [
      "[2, 6, 7, 8, 9, 11]\n"
     ]
    }
   ],
   "source": [
    "A = [11, 2, 8, 9, 7, 6]\n",
    "print(insertion_sort(A))"
   ]
  },
  {
   "cell_type": "markdown",
   "id": "32dac196",
   "metadata": {},
   "source": [
    "## Merge sort"
   ]
  },
  {
   "cell_type": "code",
   "execution_count": 4,
   "id": "a70d89d0",
   "metadata": {},
   "outputs": [
    {
     "name": "stdout",
     "output_type": "stream",
     "text": [
      "[2, 6, 7, 8, 9, 11]\n"
     ]
    }
   ],
   "source": [
    "def merge(p, q, r):\n",
    "    nl = q - p + 1 # Length of A[p:q]\n",
    "    nr = r - q\n",
    "    L = []; R = []\n",
    "    for i in range(nl):\n",
    "        L.append(A[p+i]) # Copy A[p:q] into R[0:nl-1]\n",
    "    for j in range(nr):\n",
    "        R.append(A[q+j+1]) # Copy A[q+1:r] into R[0:nr-1]\n",
    "    i = 0 # indexes the smallest remaining element in L\n",
    "    j = 0 # indexes the smallest remaining element in R\n",
    "    k = p # indexes the location in A to fill\n",
    "    # As long as each of the arrays L and R contains an unmerged element, copy the smallest unmerged element back into A[p:r]\n",
    "    while i < nl and j < nr:\n",
    "        if L[i] <= R[j]:\n",
    "            A[k] = L[i]\n",
    "            i += 1\n",
    "        else:\n",
    "            A[k] = R[j]\n",
    "            j += 1\n",
    "        k += 1\n",
    "    # Having gone through one of L and R entirely, copy the remainder of the other to the end of A[p:r]\n",
    "    while i < nl:\n",
    "        A[k] = L[i]\n",
    "        i += 1\n",
    "        k += 1\n",
    "    \n",
    "    while j < nr:\n",
    "        A[k] = R[j]\n",
    "        j += 1\n",
    "        k += 1\n",
    "            \n",
    "    \n",
    "    \n",
    "def merge_sort(p, r):\n",
    "    if p >= r:\n",
    "        return\n",
    "    q = math.floor((p+r)/2) # Midpoint of A[p:r]\n",
    "    merge_sort(p, q) # recursively sort A[p:r]\n",
    "    merge_sort(q +1 , r) # recursively sort A[q+1:r]\n",
    "    # Merge A[p:q] and A[q+1:r] into A[p:r]\n",
    "    merge(p, q, r)\n",
    "    return A\n",
    "    \n",
    "\n",
    "A = [11, 2, 8, 9, 7, 6]\n",
    "p = 0\n",
    "r = len(A) - 1\n",
    "print(merge_sort(p, r))"
   ]
  },
  {
   "cell_type": "code",
   "execution_count": 12,
   "id": "562f19a8",
   "metadata": {},
   "outputs": [
    {
     "name": "stdout",
     "output_type": "stream",
     "text": [
      "Merge sort finished in 3.0544064044952393\n",
      "Insertion sort finished in 0.09952664375305176\n"
     ]
    }
   ],
   "source": [
    "from random import randint\n",
    "import time\n",
    "A = [randint(1, 100) for i in range(100000)]\n",
    "start_time = time.time()\n",
    "p = 0\n",
    "r = len(A) - 1\n",
    "L = merge_sort(p, r)\n",
    "print(\"Merge sort finished in\", time.time() - start_time)\n",
    "\n",
    "start_time = time.time()\n",
    "L =(insertion_sort(A))\n",
    "print(\"Insertion sort finished in\", time.time() - start_time)\n"
   ]
  }
 ],
 "metadata": {
  "kernelspec": {
   "display_name": "Python 3 (ipykernel)",
   "language": "python",
   "name": "python3"
  },
  "language_info": {
   "codemirror_mode": {
    "name": "ipython",
    "version": 3
   },
   "file_extension": ".py",
   "mimetype": "text/x-python",
   "name": "python",
   "nbconvert_exporter": "python",
   "pygments_lexer": "ipython3",
   "version": "3.10.9"
  }
 },
 "nbformat": 4,
 "nbformat_minor": 5
}
